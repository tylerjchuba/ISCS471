{
 "cells": [
  {
   "cell_type": "markdown",
   "metadata": {},
   "source": [
    "## Let's Define some Shapes \n",
    "\n",
    "We will define an abstract class of a Shape and implement a rectangle & triangle class. \n",
    "\n",
    "## Why do we want an abstract class?\n",
    "\n",
    "An abstract class serves a template and blueprint for what the application expects for a given a shape. Right now, we know the that our application wants every shape to be able to calculate its area. By using an abstract class, we are **enforcing** that every shape made has this ability. This prevents issues in the application further down the road, we wouldn't want to have a shape that can't calculate its own area. \n",
    "\n"
   ]
  },
  {
   "cell_type": "code",
   "execution_count": 80,
   "metadata": {},
   "outputs": [],
   "source": [
    "from abc import ABC, abstractmethod\n",
    "import json\n",
    "# lets define a fairly basic abstract class \n",
    "\n",
    "\n",
    "class Shape(ABC):\n",
    "\n",
    "    # The sub class implement this method \n",
    "    @abstractmethod\n",
    "    def calculate_area(self):\n",
    "        '''For any type of shape we delcare, we want the ability to caclulate the area'''\n",
    "        pass\n",
    "\n",
    "    def __init__(self): \n",
    "        print(f'A new {type(self).__name__} object has been created!')\n",
    "        pass\n",
    "\n",
    "    # The sub class will inherit this method\n",
    "    def __repr__(self):\n",
    "        '''We need a pretty way to view what on object is, this is what this function does - don't worry too much about this one here'''\n",
    "        return f'[{type(self).__name__}]\\n' + json.dumps(self.__dict__, indent=2, sort_keys=True)\n",
    "\n"
   ]
  },
  {
   "cell_type": "markdown",
   "metadata": {},
   "source": [
    "## Abstract Classes Aren't Real\n",
    "An Abstract Class is purely a template - it's not ever meant to be standalone. This means you can create a 'shape' itself; you have to define a version of a shape that **implements** a function to determine the area. \n",
    "\n",
    "The 'Shape' parent class does not care how the child class implements functionality of cacluating area."
   ]
  },
  {
   "cell_type": "code",
   "execution_count": 81,
   "metadata": {},
   "outputs": [
    {
     "ename": "TypeError",
     "evalue": "Can't instantiate abstract class Shape with abstract method calculate_area",
     "output_type": "error",
     "traceback": [
      "\u001b[1;31m---------------------------------------------------------------------------\u001b[0m",
      "\u001b[1;31mTypeError\u001b[0m                                 Traceback (most recent call last)",
      "\u001b[1;32mc:\\Users\\tchuba\\code\\object_oriented\\textbook.ipynb Cell 4'\u001b[0m in \u001b[0;36m<module>\u001b[1;34m\u001b[0m\n\u001b[0;32m      <a href='vscode-notebook-cell:/c%3A/Users/tchuba/code/object_oriented/textbook.ipynb#ch0000004?line=0'>1</a>\u001b[0m \u001b[39m# We can't actually make a basic shape without the details of how to calculate its area\u001b[39;00m\n\u001b[1;32m----> <a href='vscode-notebook-cell:/c%3A/Users/tchuba/code/object_oriented/textbook.ipynb#ch0000004?line=1'>2</a>\u001b[0m invalid_shape \u001b[39m=\u001b[39m Shape()\n",
      "\u001b[1;31mTypeError\u001b[0m: Can't instantiate abstract class Shape with abstract method calculate_area"
     ]
    }
   ],
   "source": [
    "# We can't actually make a basic shape without the details of how to calculate its area\n",
    "invalid_shape = Shape()\n",
    "\n",
    "# This will throw an error because it doesn't have all the necessary information to be created "
   ]
  },
  {
   "cell_type": "markdown",
   "metadata": {},
   "source": [
    "## Let's make an actual shape: Rectangle \n",
    "\n",
    "We'll create a **Rectangle** class that implements and subclasses the **Shape** class. \n",
    "\n",
    "We know that to create a 'Shape' in this context, we need to implement a method **calculate_area**."
   ]
  },
  {
   "cell_type": "code",
   "execution_count": null,
   "metadata": {},
   "outputs": [],
   "source": [
    "\n",
    "class Rectangle(Shape):\n",
    "    \n",
    "    def __init__(self, length, width):\n",
    "        '''CONSTRUCTOR: This is the function that actually creates the object from the class'''\n",
    "        self.length = length\n",
    "        self.width = width\n",
    "\n",
    "        # We'll call the Shape object's function to show that we've been created\n",
    "        Shape.__init__(self)\n",
    "\n",
    "    def calculate_area(self):\n",
    "        '''For a rectangle, the we calculate the area by multiplying the width * length'''\n",
    "        return f'Area = {self.length * self.width}' \n",
    "\n"
   ]
  },
  {
   "cell_type": "markdown",
   "metadata": {},
   "source": [
    "### Notice the following:\n",
    "\n",
    "- class Rectangle(Shape) -> We define a class named **Rectangle** that inherits from the abstract class **Shape** \n",
    "\n",
    "    **Inheritance** means that the **Rectangle** object automatically has access to the methods and variables defined in the **Shape** class. It's a way to enforce consistency across classes and to not repeat code. \n",
    "\n",
    "- def __init__() is python's constructor method for creating objects. It takes the provided information required to create the class specified in the parameters (length, width)\n",
    "\n",
    "- The **self** parameter how the object references itself - very literal. \n",
    "\n"
   ]
  },
  {
   "cell_type": "code",
   "execution_count": null,
   "metadata": {},
   "outputs": [
    {
     "name": "stdout",
     "output_type": "stream",
     "text": [
      "A new Rectangle object has been created\n"
     ]
    },
    {
     "data": {
      "text/plain": [
       "'Area = 1'"
      ]
     },
     "execution_count": 50,
     "metadata": {},
     "output_type": "execute_result"
    }
   ],
   "source": [
    "# Using the CLASS to create an OBJECT \n",
    "\n",
    "rectangle = Rectangle(length=1, width=1)\n",
    "\n",
    "# Calling the Object rectangle's method to calculate the area \n",
    "\n",
    "rectangle.calculate_area()\n"
   ]
  },
  {
   "cell_type": "markdown",
   "metadata": {},
   "source": [
    "### Usage notes\n",
    "\n",
    "We've defined a variable 'rectangle' to be equal to a Rectangle with a width & length of one. On a more technical level, we have actually **created an Rectangle object** which is an **instance of the Rectangle Class**. \n",
    "\n",
    "This is now an object that we can use to do other things.\n",
    "\n",
    "# Let's make a Triangle\n"
   ]
  },
  {
   "cell_type": "code",
   "execution_count": null,
   "metadata": {},
   "outputs": [
    {
     "name": "stdout",
     "output_type": "stream",
     "text": [
      "A new Triangle object has been created\n"
     ]
    },
    {
     "data": {
      "text/plain": [
       "'Area = 4.5'"
      ]
     },
     "execution_count": 48,
     "metadata": {},
     "output_type": "execute_result"
    }
   ],
   "source": [
    "# What if we want a Triangle object?\n",
    "\n",
    "class Triangle(Shape): \n",
    "\n",
    "    def __init__(self, side1, side2, side3):\n",
    "        self.side1 = side1\n",
    "        self.side2 = side2\n",
    "        self.side3 = side3\n",
    "\n",
    "        # We'll call the Shape object's function to show that we've been created\n",
    "        Shape.__init__(self)\n",
    "\n",
    "    def calculate_area(self): \n",
    "        '''We know that the area of a triangle is represented by the equation of A=1/2(B)(H)\n",
    "           For now, let's assume the side1 is the base and side2 is the height\n",
    "        '''\n",
    "        return f'Area = {.5 * self.side1 * self.side1}'\n",
    "\n",
    "\n",
    "triangle = Triangle(side1=3, side2=4, side3=5)\n",
    "\n",
    "triangle.calculate_area()"
   ]
  },
  {
   "cell_type": "markdown",
   "metadata": {},
   "source": [
    "### Great! We have two different shapes defined. Are we really fufilling the intent of the area? ###\n",
    "The Triangle class works off of the assumption that the sides are predfined, and that the values provided are always a triangle.\n",
    "\n",
    "We can't always trust that to be True. While it may technically be a shape, we're not really a triangle are we?\n",
    "\n",
    "Let's go a little bit more in depth here. \n",
    "\n"
   ]
  },
  {
   "cell_type": "code",
   "execution_count": null,
   "metadata": {},
   "outputs": [
    {
     "name": "stdout",
     "output_type": "stream",
     "text": [
      "A new Triangle object has been created\n"
     ]
    },
    {
     "data": {
      "text/plain": [
       "'Area = 6.0'"
      ]
     },
     "execution_count": 75,
     "metadata": {},
     "output_type": "execute_result"
    }
   ],
   "source": [
    "# What if we want a Triangle object?\n",
    "\n",
    "class Triangle(Shape): \n",
    "\n",
    "    def __init__(self, side1, side2, side3):\n",
    "        # set the provided sides in a list and sort them by size\n",
    "        self.sides = [side1, side2, side3]\n",
    "        self.sides.sort()\n",
    "        self._is_valid_triangle(self)\n",
    "\n",
    "        # We'll call the Shape object's function to show that we've been created\n",
    "        Shape.__init__(self)\n",
    "\n",
    "    def calculate_area(self): \n",
    "        '''We know that the area of a triangle is represented by the equation of A=1/2(B)(H)\n",
    "           For now, let's assume the side1 is the base and side2 is the height\n",
    "        '''\n",
    "        return f'Area = {.5 * self.sides[0] * self.sides[1]}'\n",
    "\n",
    "    \n",
    "    def _is_valid_triangle(self):\n",
    "        if not self.sides[0] + self.sides[1] >= self.sides[2]: \n",
    "            raise ValueError(f'Triangle dimmensions do not match a valid triangle {self.sides}')\n",
    "        \n",
    "\n",
    "triangle = Triangle(side1=3, side2=4, side3=5)\n",
    "triangle.calculate_area()"
   ]
  },
  {
   "cell_type": "code",
   "execution_count": null,
   "metadata": {},
   "outputs": [
    {
     "ename": "ValueError",
     "evalue": "Triangle dimmensions do not match a valid triangle [1, 2, 205]",
     "output_type": "error",
     "traceback": [
      "\u001b[1;31m---------------------------------------------------------------------------\u001b[0m",
      "\u001b[1;31mValueError\u001b[0m                                Traceback (most recent call last)",
      "\u001b[1;32mc:\\Users\\tchuba\\code\\object_oriented\\textbook.ipynb Cell 13'\u001b[0m in \u001b[0;36m<module>\u001b[1;34m\u001b[0m\n\u001b[1;32m----> <a href='vscode-notebook-cell:/c%3A/Users/tchuba/code/object_oriented/textbook.ipynb#ch0000016?line=0'>1</a>\u001b[0m bad_triangle_object \u001b[39m=\u001b[39m Triangle(side1\u001b[39m=\u001b[39;49m\u001b[39m1\u001b[39;49m, side2\u001b[39m=\u001b[39;49m\u001b[39m2\u001b[39;49m, side3\u001b[39m=\u001b[39;49m\u001b[39m205\u001b[39;49m)\n",
      "\u001b[1;32mc:\\Users\\tchuba\\code\\object_oriented\\textbook.ipynb Cell 12'\u001b[0m in \u001b[0;36mTriangle.__init__\u001b[1;34m(self, side1, side2, side3)\u001b[0m\n\u001b[0;32m      <a href='vscode-notebook-cell:/c%3A/Users/tchuba/code/object_oriented/textbook.ipynb#ch0000007?line=6'>7</a>\u001b[0m \u001b[39mself\u001b[39m\u001b[39m.\u001b[39msides \u001b[39m=\u001b[39m [side1, side2, side3]\n\u001b[0;32m      <a href='vscode-notebook-cell:/c%3A/Users/tchuba/code/object_oriented/textbook.ipynb#ch0000007?line=7'>8</a>\u001b[0m \u001b[39mself\u001b[39m\u001b[39m.\u001b[39msides\u001b[39m.\u001b[39msort()\n\u001b[1;32m----> <a href='vscode-notebook-cell:/c%3A/Users/tchuba/code/object_oriented/textbook.ipynb#ch0000007?line=8'>9</a>\u001b[0m \u001b[39mself\u001b[39;49m\u001b[39m.\u001b[39;49m_is_valid_triangle(\u001b[39mself\u001b[39;49m)\n\u001b[0;32m     <a href='vscode-notebook-cell:/c%3A/Users/tchuba/code/object_oriented/textbook.ipynb#ch0000007?line=10'>11</a>\u001b[0m \u001b[39m# We'll call the Shape object's function to show that we've been created\u001b[39;00m\n\u001b[0;32m     <a href='vscode-notebook-cell:/c%3A/Users/tchuba/code/object_oriented/textbook.ipynb#ch0000007?line=11'>12</a>\u001b[0m Shape\u001b[39m.\u001b[39m\u001b[39m__init__\u001b[39m(\u001b[39mself\u001b[39m)\n",
      "\u001b[1;32mc:\\Users\\tchuba\\code\\object_oriented\\textbook.ipynb Cell 12'\u001b[0m in \u001b[0;36mTriangle._is_valid_triangle\u001b[1;34m(self)\u001b[0m\n\u001b[0;32m     <a href='vscode-notebook-cell:/c%3A/Users/tchuba/code/object_oriented/textbook.ipynb#ch0000007?line=19'>20</a>\u001b[0m \u001b[39m@staticmethod\u001b[39m\n\u001b[0;32m     <a href='vscode-notebook-cell:/c%3A/Users/tchuba/code/object_oriented/textbook.ipynb#ch0000007?line=20'>21</a>\u001b[0m \u001b[39mdef\u001b[39;00m \u001b[39m_is_valid_triangle\u001b[39m(\u001b[39mself\u001b[39m):\n\u001b[0;32m     <a href='vscode-notebook-cell:/c%3A/Users/tchuba/code/object_oriented/textbook.ipynb#ch0000007?line=21'>22</a>\u001b[0m     \u001b[39mif\u001b[39;00m \u001b[39mnot\u001b[39;00m \u001b[39mself\u001b[39m\u001b[39m.\u001b[39msides[\u001b[39m0\u001b[39m] \u001b[39m+\u001b[39m \u001b[39mself\u001b[39m\u001b[39m.\u001b[39msides[\u001b[39m1\u001b[39m] \u001b[39m>\u001b[39m\u001b[39m=\u001b[39m \u001b[39mself\u001b[39m\u001b[39m.\u001b[39msides[\u001b[39m2\u001b[39m]: \n\u001b[1;32m---> <a href='vscode-notebook-cell:/c%3A/Users/tchuba/code/object_oriented/textbook.ipynb#ch0000007?line=22'>23</a>\u001b[0m         \u001b[39mraise\u001b[39;00m \u001b[39mValueError\u001b[39;00m(\u001b[39mf\u001b[39m\u001b[39m'\u001b[39m\u001b[39mTriangle dimmensions do not match a valid triangle \u001b[39m\u001b[39m{\u001b[39;00m\u001b[39mself\u001b[39m\u001b[39m.\u001b[39msides\u001b[39m}\u001b[39;00m\u001b[39m'\u001b[39m)\n",
      "\u001b[1;31mValueError\u001b[0m: Triangle dimmensions do not match a valid triangle [1, 2, 205]"
     ]
    }
   ],
   "source": [
    "bad_triangle_object = Triangle(side1=1, side2=2, side3=205)"
   ]
  },
  {
   "cell_type": "markdown",
   "metadata": {},
   "source": [
    "## Let's talk about some of these Changes\n",
    "- We've created a new method _is_valid_triangle() that checks if the dimmensions are correct. \n",
    "    - This enforces that Triangle is truly a Triangle \n",
    "- The new method is **enapsulated** as an instance method - meaning that it's not publically available if you were to examine the object. \n",
    "    Python does not allow access control onto a method - but generally any method starting with '_' is considered private\n"
   ]
  },
  {
   "cell_type": "code",
   "execution_count": 82,
   "metadata": {},
   "outputs": [
    {
     "name": "stdout",
     "output_type": "stream",
     "text": [
      "A new Triangle object has been created!\n"
     ]
    }
   ],
   "source": []
  }
 ],
 "metadata": {
  "interpreter": {
   "hash": "b89b5cfaba6639976dc87ff2fec6d58faec662063367e2c229c520fe71072417"
  },
  "kernelspec": {
   "display_name": "Python 3.10.2 64-bit",
   "language": "python",
   "name": "python3"
  },
  "language_info": {
   "codemirror_mode": {
    "name": "ipython",
    "version": 3
   },
   "file_extension": ".py",
   "mimetype": "text/x-python",
   "name": "python",
   "nbconvert_exporter": "python",
   "pygments_lexer": "ipython3",
   "version": "3.10.2"
  },
  "orig_nbformat": 4
 },
 "nbformat": 4,
 "nbformat_minor": 2
}
